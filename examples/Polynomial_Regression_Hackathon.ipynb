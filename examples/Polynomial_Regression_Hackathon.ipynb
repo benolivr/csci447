{
 "cells": [
  {
   "cell_type": "markdown",
   "id": "3f2dbe89",
   "metadata": {},
   "source": [
    "# Polynomial Regression Hackathon\n",
    "This notebook walks you through linear and polynomial regression.\n",
    "At the end, you’ll run a hackathon challenge: find the best polynomial fit for housing data.\n"
   ]
  },
  {
   "cell_type": "markdown",
   "id": "8cb8e2a2",
   "metadata": {},
   "source": [
    "## Warm-up: Simple Linear Regression"
   ]
  },
  {
   "cell_type": "code",
   "execution_count": 2,
   "id": "adbfb3e0",
   "metadata": {},
   "outputs": [
    {
     "name": "stdout",
     "output_type": "stream",
     "text": [
      "The history saving thread hit an unexpected error (OperationalError('attempt to write a readonly database')).History will not be written to the database.\n"
     ]
    },
    {
     "data": {
      "image/png": "[encoded data removed]",
      "text/plain": [
       "<Figure size 640x480 with 1 Axes>"
      ]
     },
     "metadata": {},
     "output_type": "display_data"
    },
    {
     "name": "stdout",
     "output_type": "stream",
     "text": [
      "Slope: 10.714285714285712 Intercept: 29.2857142857143\n"
     ]
    }
   ],
   "source": [
    "import numpy as np\n",
    "import matplotlib.pyplot as plt\n",
    "from sklearn.linear_model import LinearRegression\n",
    "\n",
    "X = np.array([1,2,3,4,5,6,7,8]).reshape(-1, 1)\n",
    "y = np.array([40, 50, 65, 70, 85, 90, 100, 120])\n",
    "\n",
    "model = LinearRegression()\n",
    "model.fit(X, y)\n",
    "plt.scatter(X, y, color='blue')\n",
    "plt.plot(X, model.predict(X), color='red', label='Best fit line')\n",
    "plt.legend(); plt.show()\n",
    "print('Slope:', model.coef_[0], 'Intercept:', model.intercept_)"
   ]
  },
  {
   "cell_type": "markdown",
   "id": "58115a20",
   "metadata": {},
   "source": [
    "## Polynomial Regression Example"
   ]
  },
  {
   "cell_type": "code",
   "execution_count": null,
   "id": "a38ced33",
   "metadata": {},
   "outputs": [],
   "source": [
    "from sklearn.preprocessing import PolynomialFeatures\n",
    "\n",
    "poly = PolynomialFeatures(degree=2, include_bias=False)\n",
    "X_poly = poly.fit_transform(X)\n",
    "model_poly = LinearRegression()\n",
    "model_poly.fit(X_poly, y)\n",
    "plt.scatter(X, y, color='blue')\n",
    "plt.plot(X, model_poly.predict(X_poly), color='green', label='Quadratic fit')\n",
    "plt.legend(); plt.show()"
   ]
  },
  {
   "cell_type": "markdown",
   "id": "fa20f514",
   "metadata": {},
   "source": [
    "## Hackathon Dataset"
   ]
  },
  {
   "cell_type": "code",
   "execution_count": null,
   "id": "3bf873e8",
   "metadata": {},
   "outputs": [],
   "source": [
    "import numpy as np\n",
    "import pandas as pd\n",
    "import matplotlib.pyplot as plt\n",
    "from sklearn.linear_model import LinearRegression\n",
    "from sklearn.preprocessing import PolynomialFeatures\n",
    "from sklearn.metrics import mean_squared_error\n",
    "from sklearn.model_selection import train_test_split\n",
    "\n",
    "# Larger housing dataset\n",
    "data = {\n",
    "    \"Size\": [850, 1200, 1416, 1534, 1700, 1850, 2000, 2104, 2200, 2450,\n",
    "             2600, 2800, 3000, 3200, 3400, 3600, 3800, 4000, 4200, 4500],\n",
    "    \"Price\": [150, 210, 232, 315, 300, 355, 380, 460, 410, 480,\n",
    "              500, 530, 600, 620, 650, 700, 730, 760, 800, 850]\n",
    "}\n",
    "df = pd.DataFrame(data)\n",
    "\n",
    "X = df[[\"Size\"]]\n",
    "y = df[\"Price\"]\n",
    "\n",
    "plt.scatter(X, y, color=\"blue\")\n",
    "plt.xlabel(\"Size (sq ft)\")\n",
    "plt.ylabel(\"Price ($K)\")\n",
    "plt.title(\"Housing Prices Dataset\")\n",
    "plt.show()"
   ]
  },
  {
   "cell_type": "markdown",
   "id": "f6085031",
   "metadata": {},
   "source": [
    "## Step 1. Define polynomial fit function (TODO)"
   ]
  },
  {
   "cell_type": "code",
   "execution_count": null,
   "id": "1c5012f0",
   "metadata": {},
   "outputs": [],
   "source": [
    "def fit_polynomial(X, y, degree):\n",
    "    # TODO: Create polynomial features, fit LinearRegression, compute predictions and MSE\n",
    "    pass\n"
   ]
  },
  {
   "cell_type": "markdown",
   "id": "e451b051",
   "metadata": {},
   "source": [
    "## Step 2. Try polynomials 1–4 and compute MSE (TODO)"
   ]
  },
  {
   "cell_type": "code",
   "execution_count": null,
   "id": "1aa8628d",
   "metadata": {},
   "outputs": [],
   "source": [
    "results={}\n",
    "X_range=np.linspace(min(X.values.flatten()),max(X.values.flatten()),200).reshape(-1,1)\n",
    "for d in range():\n",
    "    # TODO: Loop over polynomials 1–4, compute errors, and plot fits\n",
    "print('MSE by degree:',results)"
   ]
  },
  {
   "cell_type": "markdown",
   "id": "3c841584",
   "metadata": {},
   "source": [
    "## Step 3. Compare models visually (TODO)"
   ]
  },
  {
   "cell_type": "code",
   "execution_count": null,
   "id": "f222be6d",
   "metadata": {},
   "outputs": [],
   "source": [
    "# TODO: Plot polynomial fits for different degrees\n"
   ]
  },
  {
   "cell_type": "markdown",
   "id": "ed3b0f78",
   "metadata": {},
   "source": [
    "## Step 4. Train/Test Split (TODO)"
   ]
  },
  {
   "cell_type": "code",
   "execution_count": null,
   "id": "d90130db",
   "metadata": {},
   "outputs": [],
   "source": [
    "from sklearn.model_selection import train_test_split\n",
    "X_train,X_test,y_train,y_test=train_test_split(X,y,test_size=0.3,random_state=42)\n",
    "train_err,test_err={},{}\n",
    "\n",
    "\n",
    "for d in range():\n",
    "    # TODO: Loop over polynomials 1–4, fit models of different polynomials, compare train and test MSE\n",
    "    # Don't forget... you can use the .fit_transform() method to transform your training AND testing data to generate the polynomial features :) \n",
    "    train_err[d]=mean_squared_error(# TODO: fill in)\n",
    "    test_err[d]=mean_squared_error(# TODO: fill in)\n",
    "        \n",
    "print('Train errors:',train_err) \n",
    "print('Test errors:',test_err)\n",
    "plt.plot(train_err.keys(),train_err.values(),label='Train MSE')\n",
    "plt.plot(test_err.keys(),test_err.values(),label='Test MSE')\n",
    "plt.xlabel('Polynomial Degree'); plt.ylabel('MSE'); plt.legend(); plt.show()"
   ]
  }
 ],
 "metadata": {
  "kernelspec": {
   "display_name": "Python 3 (ipykernel)",
   "language": "python",
   "name": "python3"
  },
  "language_info": {
   "codemirror_mode": {
    "name": "ipython",
    "version": 3
   },
   "file_extension": ".py",
   "mimetype": "text/x-python",
   "name": "python",
   "nbconvert_exporter": "python",
   "pygments_lexer": "ipython3",
   "version": "3.12.7"
  }
 },
 "nbformat": 4,
 "nbformat_minor": 5
}
